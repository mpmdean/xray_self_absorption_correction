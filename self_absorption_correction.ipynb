{
 "cells": [
  {
   "cell_type": "code",
   "execution_count": 1,
   "id": "9e52b65a-b9fe-4c02-bb15-ff8af98cfc86",
   "metadata": {},
   "outputs": [
    {
     "name": "stderr",
     "output_type": "stream",
     "text": [
      "[root] WARNING : Larchs apps and shell are not supported due to missing dependencies: cannot import name 'LarchWxApp' from 'larch.wxlib' (/srv/conda/envs/notebook/lib/python3.8/site-packages/larch/wxlib/__init__.py)\n"
     ]
    }
   ],
   "source": [
    "import numpy as np\n",
    "import matplotlib.pyplot as plt\n",
    "from scipy.special import erf\n",
    "from xraydb import xray_line, xray_edge, material_mu\n",
    "from larch.xafs.pre_edge import preedge\n"
   ]
  },
  {
   "cell_type": "markdown",
   "id": "1dcebc1b-96e3-4f0d-aa0b-f60a174f1f45",
   "metadata": {},
   "source": [
    "Correct over-absorption (self-absorption) for fluorescene XAFS\n",
    "using the [FLUO alogrithm of D. Haskel](https://www3.aps.anl.gov/haskel/FLUO/Fluo-manual.pdf).\n",
    "This is adapted the function from the function\n",
    "\n",
    "from larch.xafs.fluo import fluo_corr\n",
    "\n",
    "in the [xraylarch](https://xraypy.github.io/xraylarch/) package"
   ]
  },
  {
   "cell_type": "markdown",
   "id": "fc1518b4-7eec-404f-ad4c-1828a30ed8ad",
   "metadata": {},
   "source": [
    "# Make fake data"
   ]
  },
  {
   "cell_type": "code",
   "execution_count": 2,
   "id": "74a8452f-1f45-4595-8537-130dcc2e8824",
   "metadata": {},
   "outputs": [
    {
     "data": {
      "text/plain": [
       "Text(0, 0.5, 'Uncorrected fluoresence')"
      ]
     },
     "execution_count": 2,
     "metadata": {},
     "output_type": "execute_result"
    },
    {
     "data": {
      "image/png": "[encoded data removed]",
      "text/plain": [
       "<Figure size 432x288 with 1 Axes>"
      ]
     },
     "metadata": {
      "needs_background": "light"
     },
     "output_type": "display_data"
    }
   ],
   "source": [
    "energy = np.linspace(900, 1000, 1000) # in eV\n",
    "mu = 12*np.exp(-(energy - 930)**2/3) + 3*erf((energy - 930)/5) + 4\n",
    "\n",
    "fig, ax = plt.subplots()\n",
    "\n",
    "ax.plot(energy, mu)\n",
    "ax.set_xlabel('Energy (eV)')\n",
    "ax.set_ylabel('Uncorrected fluoresence')"
   ]
  },
  {
   "cell_type": "markdown",
   "id": "795120e2-6255-4612-b15c-96c3955fc77b",
   "metadata": {},
   "source": [
    "# Define parameters"
   ]
  },
  {
   "cell_type": "code",
   "execution_count": 3,
   "id": "8bd06e34-61ac-4b62-892b-d64417944ae6",
   "metadata": {},
   "outputs": [],
   "source": [
    "formula = 'Cu2OSeO3' # string for sample stoichiometry\n",
    "elem = 'Cu' # atomic symbol or Z of absorbing element\n",
    "edge = 'L3' # name of edge ('K', 'L3', ...) \n",
    "anginp = 45 # incident angle in degrees w.r.t sample surface\n",
    "angout = 45 # outgoing angle in degrees w.r.t sample surface\n",
    "line = 'L' # emission line measured"
   ]
  },
  {
   "cell_type": "code",
   "execution_count": 4,
   "id": "ca33bcdc-9ecc-4059-a20b-e1606b5c2528",
   "metadata": {},
   "outputs": [],
   "source": [
    "pre_opts = {'e0': None, 'nnorm': 1, 'nvict': 0,\n",
    "            'pre1': None, 'pre2': -30,\n",
    "            'norm1': 100, 'norm2': None,\n",
    "            'step': None, 'nvict': 0}\n",
    "\n",
    "# generate normalized mu for correction\n",
    "preinp   = preedge(energy, mu, **pre_opts)\n",
    "\n",
    "ang_corr = (np.sin(max(1.e-7, np.deg2rad(anginp))) /\n",
    "            np.sin(max(1.e-7, np.deg2rad(angout))))\n",
    "\n",
    "# find edge energies and fluorescence line energy\n",
    "e_edge  = xray_edge(elem, edge).energy\n",
    "e_fluor = xray_line(elem, line).energy\n",
    "\n",
    "# calculate mu(E) for fluorescence energy, above, below edge\n",
    "\n",
    "muvals = material_mu(formula, np.array([e_fluor, e_edge-10.0,\n",
    "                                        e_edge+10.0]), density=1)\n",
    "\n",
    "alpha   = (muvals[0]*ang_corr + muvals[1])/(muvals[2] - muvals[1])\n",
    "mu_corr = mu*alpha/(alpha + 1 - preinp['norm'])"
   ]
  },
  {
   "cell_type": "code",
   "execution_count": 5,
   "id": "f404206b-65e8-4f2a-a36a-d07ed5849289",
   "metadata": {},
   "outputs": [
    {
     "data": {
      "text/plain": [
       "<matplotlib.legend.Legend at 0x7f278677e820>"
      ]
     },
     "execution_count": 5,
     "metadata": {},
     "output_type": "execute_result"
    },
    {
     "data": {
      "image/png": "[encoded data removed]",
      "text/plain": [
       "<Figure size 432x288 with 1 Axes>"
      ]
     },
     "metadata": {
      "needs_background": "light"
     },
     "output_type": "display_data"
    }
   ],
   "source": [
    "fig, ax = plt.subplots()\n",
    "\n",
    "ax.plot(energy, mu, label='mu')\n",
    "ax.plot(energy, mu_corr, label='mu_corr')\n",
    "\n",
    "ax.set_xlabel('Energy (eV)')\n",
    "ax.set_ylabel('fluoresence')\n",
    "ax.legend()"
   ]
  },
  {
   "cell_type": "code",
   "execution_count": null,
   "id": "4e67325a-1fc6-4005-ad77-bae96579a67c",
   "metadata": {},
   "outputs": [],
   "source": []
  }
 ],
 "metadata": {
  "kernelspec": {
   "display_name": "Python 3 (ipykernel)",
   "language": "python",
   "name": "python3"
  },
  "language_info": {
   "codemirror_mode": {
    "name": "ipython",
    "version": 3
   },
   "file_extension": ".py",
   "mimetype": "text/x-python",
   "name": "python",
   "nbconvert_exporter": "python",
   "pygments_lexer": "ipython3",
   "version": "3.8.12"
  }
 },
 "nbformat": 4,
 "nbformat_minor": 5
}
